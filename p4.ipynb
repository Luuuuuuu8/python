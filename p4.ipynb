{
 "cells": [
  {
   "cell_type": "markdown",
   "id": "985e6f9b",
   "metadata": {},
   "source": [
    "# PRACTICA 4\n",
    "\n",
    "### Resuelve los siguientes ejercicios\n",
    "María Ruiz, Borja Fernandez, Lucía Cortés, Ana Arnau"
   ]
  },
  {
   "cell_type": "markdown",
   "id": "28748e51",
   "metadata": {},
   "source": [
    "##### 1.- Abre el fichero dna.txt, guarda una lista del contenido del archivo. Devuelve su longitud y su primer caracter"
   ]
  },
  {
   "cell_type": "code",
   "execution_count": 3,
   "id": "88679bbc",
   "metadata": {},
   "outputs": [
    {
     "name": "stdout",
     "output_type": "stream",
     "text": [
      "Longitud del contenido: 1\n",
      "Primer carácter: A\n"
     ]
    }
   ],
   "source": [
    "# Abrir archivo\n",
    "with open('dna.txt', 'r') as file:\n",
    "    dna_list = file.readlines()\n",
    "\n",
    "# Longitud y primer carácter\n",
    "longitud = len(dna_list)\n",
    "primer_caracter = dna_list[0][0] if dna_list else None\n",
    "\n",
    "# Resultados\n",
    "print(f\"Longitud del contenido: {longitud}\")\n",
    "print(f\"Primer carácter: {primer_caracter}\")\n",
    "\n",
    "secuencia = dna_list[0]"
   ]
  },
  {
   "cell_type": "markdown",
   "id": "9b87396a",
   "metadata": {},
   "source": [
    "##### 2.- Crea dos archivos. Uno almacena los accession que empiezen por 'a' y el otro el resto"
   ]
  },
  {
   "cell_type": "code",
   "execution_count": 9,
   "id": "73957856",
   "metadata": {},
   "outputs": [],
   "source": [
    "accs = ['ab56', 'bh84', 'hv76', 'ay93', 'ap97', 'bd72']"
   ]
  },
  {
   "cell_type": "code",
   "execution_count": 5,
   "id": "8f62bc8f",
   "metadata": {},
   "outputs": [
    {
     "name": "stdout",
     "output_type": "stream",
     "text": [
      "Archivos creados con éxito.\n"
     ]
    }
   ],
   "source": [
    "# Accession\n",
    "accs = ['ab56', 'bh84', 'hv76', 'ay93', 'ap97', 'bd72']\n",
    "\n",
    "# Crear y escribir \n",
    "with open('accs_con_a.txt', 'w') as file_a, open('accs_otros.txt', 'w') as file_b:\n",
    "    for acc in accs:\n",
    "        if acc.startswith('a'):\n",
    "            file_a.write(acc + '\\n')\n",
    "        else:\n",
    "            file_b.write(acc + '\\n')\n",
    "\n",
    "print(\"Archivos creados con éxito.\")"
   ]
  },
  {
   "cell_type": "markdown",
   "id": "9cbb4adf",
   "metadata": {},
   "source": [
    "##### 3.- Imprime solamente los accessions de la lista anterior que empiecen por 'a' y no acaben con '6'. Pista: usa endswith() y startswidth()"
   ]
  },
  {
   "cell_type": "code",
   "execution_count": 7,
   "id": "b32ca419",
   "metadata": {},
   "outputs": [
    {
     "name": "stdout",
     "output_type": "stream",
     "text": [
      "ay93\n",
      "ap97\n"
     ]
    }
   ],
   "source": [
    "for acc in accs:\n",
    "    if acc.startswith('a') and not acc.endswith('6'):\n",
    "        print(acc)"
   ]
  },
  {
   "cell_type": "markdown",
   "id": "42c397b0",
   "metadata": {},
   "source": [
    "##### 4.- Escribe una función que cuente el porcentaje de A de una secuencia"
   ]
  },
  {
   "cell_type": "code",
   "execution_count": 9,
   "id": "da633510",
   "metadata": {},
   "outputs": [
    {
     "name": "stdout",
     "output_type": "stream",
     "text": [
      "22.22222222222222\n"
     ]
    }
   ],
   "source": [
    "def calcular(secuencia):\n",
    "    conteo_a = secuencia.count('A')\n",
    "    longitud=len(secuencia)\n",
    "    porcentaje = (conteo_a / longitud)*100\n",
    "    return porcentaje\n",
    "\n",
    "# Introducir la secuencia\n",
    "resultado = calcular('aTCGAtCGATCGATCgACTGACTAGTc')\n",
    "print(resultado)"
   ]
  },
  {
   "cell_type": "markdown",
   "id": "054b8f51",
   "metadata": {},
   "source": [
    "##### ¿Puedes hacer que devuelva dos decimales? ¿Y que lidie con mayúsculas y minúsculas?"
   ]
  },
  {
   "cell_type": "code",
   "execution_count": 11,
   "id": "dc1d5907",
   "metadata": {},
   "outputs": [
    {
     "name": "stdout",
     "output_type": "stream",
     "text": [
      "25.93\n"
     ]
    }
   ],
   "source": [
    "def calcular(secuencia):\n",
    "    secuencia = secuencia.upper()  # Mayúsculas\n",
    "    conteo_a = secuencia.count('A')\n",
    "    longitud = len(secuencia)\n",
    "    porcentaje = (conteo_a / longitud) * 100 if longitud > 0 else 0  # Evitar división por cero\n",
    "    return round(porcentaje, 2)  # Dos decimales\n",
    "\n",
    "# Introducir la secuencia\n",
    "resultado = calcular('aTCGAtCGATCGATCgACTGACTAGTc')\n",
    "print(resultado)"
   ]
  },
  {
   "cell_type": "markdown",
   "id": "36a03b5f",
   "metadata": {},
   "source": [
    "##### ¿Y que devuelva el número de decimales que yo quiero?"
   ]
  },
  {
   "cell_type": "code",
   "execution_count": 13,
   "id": "fc074228-3b55-4224-a0ff-6aa2d3b3ff94",
   "metadata": {},
   "outputs": [
    {
     "name": "stdout",
     "output_type": "stream",
     "text": [
      "25.926\n"
     ]
    }
   ],
   "source": [
    "def calcular(secuencia, decimales=2):\n",
    "    secuencia = secuencia.upper()  # Mayúsculas\n",
    "    conteo_a = secuencia.count('A')\n",
    "    longitud = len(secuencia)\n",
    "    porcentaje = (conteo_a / longitud) * 100 if longitud > 0 else 0  # Evitar división por cero\n",
    "    return round(porcentaje, decimales)  # Número de decimales\n",
    "\n",
    "# Introducir la secuencia \n",
    "resultado = calcular('aTCGAtCGATCGATCgACTGACTAGTc', 3)  # Cambiar el segundo número por decimales deseados\n",
    "print(resultado)  "
   ]
  },
  {
   "cell_type": "markdown",
   "id": "2c811d84",
   "metadata": {},
   "source": [
    "##### ¿Sabes poner un valor por defecto en un argumento?"
   ]
  },
  {
   "cell_type": "code",
   "execution_count": 15,
   "id": "46ada115-c01d-44b2-8121-65cca4eb5837",
   "metadata": {},
   "outputs": [
    {
     "data": {
      "text/plain": [
       "26.829268"
      ]
     },
     "execution_count": 15,
     "metadata": {},
     "output_type": "execute_result"
    }
   ],
   "source": [
    "calcular(secuencia,6)"
   ]
  },
  {
   "cell_type": "markdown",
   "id": "ab2c106c",
   "metadata": {},
   "source": [
    "##### ¿Qué pasa si no ponemos un argumento? ¿Sabrías hacer una función encapsulada?"
   ]
  },
  {
   "cell_type": "code",
   "execution_count": 17,
   "id": "739329df-bde5-4171-9910-78e90d4f16c0",
   "metadata": {},
   "outputs": [],
   "source": [
    "def calcular():\n",
    "    secuencia = secuencia.upper()  # Mayúsculas\n",
    "    conteo_a = secuencia.count('A')\n",
    "    longitud = len(secuencia)\n",
    "    porcentaje = (conteo_a / longitud) * 100 if longitud > 0 else 0  # Evitar división por cero\n",
    "    return porcentaje  # Número de decimales"
   ]
  },
  {
   "cell_type": "code",
   "execution_count": 19,
   "id": "8abc9350-ab56-45f2-b6c7-242ed86803e8",
   "metadata": {},
   "outputs": [
    {
     "ename": "UnboundLocalError",
     "evalue": "cannot access local variable 'secuencia' where it is not associated with a value",
     "output_type": "error",
     "traceback": [
      "\u001b[1;31m---------------------------------------------------------------------------\u001b[0m",
      "\u001b[1;31mUnboundLocalError\u001b[0m                         Traceback (most recent call last)",
      "Cell \u001b[1;32mIn[19], line 1\u001b[0m\n\u001b[1;32m----> 1\u001b[0m calcular()\n",
      "Cell \u001b[1;32mIn[17], line 2\u001b[0m, in \u001b[0;36mcalcular\u001b[1;34m()\u001b[0m\n\u001b[0;32m      1\u001b[0m \u001b[38;5;28;01mdef\u001b[39;00m \u001b[38;5;21mcalcular\u001b[39m():\n\u001b[1;32m----> 2\u001b[0m     secuencia \u001b[38;5;241m=\u001b[39m secuencia\u001b[38;5;241m.\u001b[39mupper()  \u001b[38;5;66;03m# Mayúsculas\u001b[39;00m\n\u001b[0;32m      3\u001b[0m     conteo_a \u001b[38;5;241m=\u001b[39m secuencia\u001b[38;5;241m.\u001b[39mcount(\u001b[38;5;124m'\u001b[39m\u001b[38;5;124mA\u001b[39m\u001b[38;5;124m'\u001b[39m)\n\u001b[0;32m      4\u001b[0m     longitud \u001b[38;5;241m=\u001b[39m \u001b[38;5;28mlen\u001b[39m(secuencia)\n",
      "\u001b[1;31mUnboundLocalError\u001b[0m: cannot access local variable 'secuencia' where it is not associated with a value"
     ]
    }
   ],
   "source": [
    "calcular()"
   ]
  },
  {
   "cell_type": "markdown",
   "id": "83af4b0f",
   "metadata": {},
   "source": [
    "##### Testea tu función original con assert"
   ]
  },
  {
   "cell_type": "code",
   "execution_count": 21,
   "id": "2bf31b44",
   "metadata": {},
   "outputs": [
    {
     "name": "stdout",
     "output_type": "stream",
     "text": [
      "25.926\n"
     ]
    }
   ],
   "source": [
    "def calcular(secuencia, decimales=2):\n",
    "    secuencia = secuencia.upper()  # Mayúsculas\n",
    "    conteo_a = secuencia.count('A')\n",
    "    longitud = len(secuencia)\n",
    "    porcentaje = (conteo_a / longitud) * 100 if longitud > 0 else 0  # Evitar división por cero\n",
    "    return round(porcentaje, decimales)  # Número de decimales\n",
    "\n",
    "# Introducir la secuencia \n",
    "resultado = calcular('aTCGAtCGATCGATCgACTGACTAGTc', 3)  # Cambiar el segundo número por decimales deseados\n",
    "print(resultado) "
   ]
  },
  {
   "cell_type": "code",
   "execution_count": 23,
   "id": "b3b22449-8049-49a3-82bb-0046db01d5c8",
   "metadata": {},
   "outputs": [],
   "source": [
    "assert calcular ('AGTC') == 25.0"
   ]
  },
  {
   "cell_type": "markdown",
   "id": "991abaa2",
   "metadata": {},
   "source": [
    "#### 5.- De la lista de accessions que se proporciona obtén lo siguiente:\n",
    "1. Los que tengan el número 5\n",
    "2. Los que tengan la letra 'd' o la 'e'\n",
    "3. Los que tengan las letras 'd' y 'e' en ese orden\n",
    "4. Los que tengan las letras 'd' y 'e' en ese orden con una letra cualquiera en medio\n",
    "5. Los que tengan ambas letras 'd' y 'e' en cualquier orden\n",
    "6. Los que empiezan por 'x' o por 'y'\n",
    "7. Los que empiezan por 'x' o 'y' y terminan por 'e'\n",
    "8. Los que tienen tres o más dígitos seguidos\n",
    "9. Los que terminan con 'd' seguidos de 'a' o 'r' o 'p'"
   ]
  },
  {
   "cell_type": "code",
   "execution_count": 26,
   "id": "6388ac75",
   "metadata": {},
   "outputs": [],
   "source": [
    "import re"
   ]
  },
  {
   "cell_type": "code",
   "execution_count": 27,
   "id": "d00d3ce7",
   "metadata": {},
   "outputs": [],
   "source": [
    "accs = ['xkn59438', 'yhdck2', 'eihd39d9', 'chdsye847', 'hedle3455', 'xjhd53e', '45da', 'de37dp']"
   ]
  },
  {
   "cell_type": "code",
   "execution_count": 35,
   "id": "51d97ae8-901b-4699-8089-e537ceee06e3",
   "metadata": {},
   "outputs": [
    {
     "name": "stdout",
     "output_type": "stream",
     "text": [
      "Los que tienen el número 5:\n",
      "['xkn59438', 'hedle3455', 'xjhd53e', '45da']\n",
      "\n",
      "Los que tienen la letra 'd' o la 'e':\n",
      "['yhdck2', 'eihd39d9', 'chdsye847', 'hedle3455', 'xjhd53e', '45da', 'de37dp']\n",
      "\n",
      "Los que tienen las letras 'd' y 'e' en ese orden:\n",
      "['chdsye847', 'hedle3455', 'xjhd53e', 'de37dp']\n",
      "\n",
      "Los que tienen las letras 'd' y 'e' en ese orden con una letra cualquiera en medio:\n",
      "['hedle3455']\n",
      "\n",
      "Los que tienen ambas letras 'd' y 'e' en cualquier orden:\n",
      "['eihd39d9', 'chdsye847', 'hedle3455', 'xjhd53e', 'de37dp']\n",
      "\n",
      "Los que empiezan por 'x' o por 'y':\n",
      "['xkn59438', 'yhdck2', 'xjhd53e']\n",
      "\n",
      "Los que empiezan por 'x' o 'y' y terminan por 'e':\n",
      "['xjhd53e']\n",
      "\n",
      "Los que tienen tres o más dígitos seguidos:\n",
      "['xkn59438', 'chdsye847', 'hedle3455']\n",
      "\n",
      "Los que terminan con 'd' seguidos de 'a', 'r' o 'p':\n",
      "['45da', 'de37dp']\n",
      "\n"
     ]
    }
   ],
   "source": [
    "import re\n",
    "\n",
    "accs = ['xkn59438', 'yhdck2', 'eihd39d9', 'chdsye847', 'hedle3455', 'xjhd53e', '45da', 'de37dp']\n",
    "\n",
    "# Los que tengan el número 5\n",
    "con_5 = [acc for acc in accs if re.search(r\"5\", acc)]\n",
    "print_results(\"Los que tienen el número 5\", con_5)\n",
    "\n",
    "# Los que tengan la letra 'd' o la 'e'\n",
    "con_d_o_e = [acc for acc in accs if re.search(r\"[de]\", acc)]\n",
    "print_results(\"Los que tienen la letra 'd' o la 'e'\", con_d_o_e)\n",
    "\n",
    "# Los que tengan las letras 'd' y 'e' en ese orden\n",
    "con_d_e_orden = [acc for acc in accs if re.search(r\"d.*e\", acc)]\n",
    "print_results(\"Los que tienen las letras 'd' y 'e' en ese orden\", con_d_e_orden)\n",
    "\n",
    "# Los que tengan las letras 'd' y 'e' en ese orden con una letra cualquiera en medio\n",
    "con_d_e_letra_medio = [acc for acc in accs if re.search(r\"d.e\", acc)]\n",
    "print_results(\"Los que tienen las letras 'd' y 'e' en ese orden con una letra cualquiera en medio\", con_d_e_letra_medio)\n",
    "\n",
    "# Los que tengan ambas letras 'd' y 'e' en cualquier orden\n",
    "con_d_e_any_order = [acc for acc in accs if re.search(r\"d.*e|e.*d\", acc)]\n",
    "print_results(\"Los que tienen ambas letras 'd' y 'e' en cualquier orden\", con_d_e_any_order)\n",
    "\n",
    "# Los que empiezan por 'x' o por 'y'\n",
    "empieza_por_x_o_y = [acc for acc in accs if re.search(r\"^[xy]\", acc)]\n",
    "print_results(\"Los que empiezan por 'x' o por 'y'\", empieza_por_x_o_y)\n",
    "\n",
    "# Los que empiezan por 'x' o 'y' y terminan por 'e'\n",
    "empieza_por_x_o_y_acaba_con_e = [acc for acc in accs if re.search(r\"^[xy].*e$\", acc)]\n",
    "print_results(\"Los que empiezan por 'x' o 'y' y terminan por 'e'\", empieza_por_x_o_y_acaba_con_e)\n",
    "\n",
    "# Los que tienen tres o más dígitos seguidos\n",
    "con_tres_digitos = [acc for acc in accs if re.search(r\"\\d{3,}\", acc)]\n",
    "print_results(\"Los que tienen tres o más dígitos seguidos\", con_tres_digitos)\n",
    "\n",
    "# Los que terminan con 'd' seguidos de 'a' o 'r' o 'p'\n",
    "acaba_con_d_and_a_r_p = [acc for acc in accs if re.search(r\"d[arp]$\", acc)]\n",
    "print_results(\"Los que terminan con 'd' seguidos de 'a', 'r' o 'p'\", acaba_con_d_and_a_r_p)\n",
    "\n",
    "\n"
   ]
  }
 ],
 "metadata": {
  "kernelspec": {
   "display_name": "Python 3 (ipykernel)",
   "language": "python",
   "name": "python3"
  },
  "language_info": {
   "codemirror_mode": {
    "name": "ipython",
    "version": 3
   },
   "file_extension": ".py",
   "mimetype": "text/x-python",
   "name": "python",
   "nbconvert_exporter": "python",
   "pygments_lexer": "ipython3",
   "version": "3.12.4"
  }
 },
 "nbformat": 4,
 "nbformat_minor": 5
}
