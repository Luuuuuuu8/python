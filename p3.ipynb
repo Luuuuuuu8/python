{
 "cells": [
  {
   "cell_type": "markdown",
   "id": "e87fdfc4",
   "metadata": {},
   "source": [
    "# PRACTICA JUEGO CONDICIONALES BUCLES\n",
    "\n",
    "\n",
    "## JUEGO DE ADIVINANZAS\n",
    "\n",
    "#### Escribe un programa que coja un número entero del 1 al 100, y los jugadores tienen que tratar de adivinar el número.\n",
    "\n",
    "#### Las reglas son las siguientes:\n",
    "\n",
    "1. Si un jugador escoje un número menor que 1 o mayor que 100, el programa dice \"FUERA DE LÍMITES\"\n",
    "2. En el primer turno del jugador, si está en un rango de 10 del número dice \"¡CALIENTE!\". Si está fuera de ese rango dice \"¡FRIO!\"\n",
    "3. En todas las rondas siguientes, si el jugador se acerca más que la vez anterior, dice \"¡MAS CALIENTE!\". Si está más lejos que la anterior vez dice \"¡MAS FRIO!\"\n",
    "4. Cuando el jugador acierte el número, les dirá que han acertado y cuántos intentos les ha llevado\n",
    "\n",
    "\n",
    "\n"
   ]
  },
  {
   "cell_type": "markdown",
   "id": "1ea418c3",
   "metadata": {},
   "source": [
    "##### PISTAS\n",
    "1. Trata obtener un número aleatorio entre el 1 y el 100\n",
    "2. Haz una introducción de tu juego y explica las reglas\n",
    "3. Crea una lista que almacene los intentos. \n",
    "4. Haz un bucle que evalúe un número. Prueba que funcione primero. While podría ir bien\n",
    "5. Modifica ese bucle para que compare nuestro número con el intento. Si se acierta usa break, si no puedes usar continue y tienes que seguir preguntando al jugador por nuevos intentos"
   ]
  },
  {
   "cell_type": "code",
   "execution_count": 134,
   "id": "9d8095d9",
   "metadata": {},
   "outputs": [],
   "source": [
    "import random\n",
    "\n",
    "def juego_adivinanza():\n",
    "    # Introducción\n",
    "    print(\"¡CALIENTE O FRÍO!\")\n",
    "    print(\"Voy a elegir un número entre 1 y 100.\")\n",
    "    print(\"¿Cuál es?\")\n",
    "    print(\"En tu primer intento, te diré ¡CALIENTE! o ¡FRIO!\")\n",
    "    print(\"En los siguientes te diré si estás más ¡MÁS CALIENTE! o ¡MÁS FRÍO!\")\n",
    "    print(\"Si eliges un número fuera del rango 1-100, te diré FUERA DE LÍMITES\")\n",
    "\n",
    "    # Número aleatorio\n",
    "    numero_oculto = random.randint(1, 100)\n",
    "\n",
    "    # Lista intentos\n",
    "    intentos = []\n",
    "\n",
    "    while True:\n",
    "        try:\n",
    "            # Respuesta jugador\n",
    "            intento = int(input(\"\\nIntroduce tu número (entre 1 y 100): \"))\n",
    "            \n",
    "            # Comprobar límites\n",
    "            if intento < 1 or intento > 100:\n",
    "                print(\"FUERA DE LÍMITES\")\n",
    "                continue\n",
    "            \n",
    "            # Almacenar el intento\n",
    "            intentos.append(intento)\n",
    "\n",
    "            # Comprobar si ha acertado\n",
    "            if intento == numero_oculto:\n",
    "                print(f\"¡Felicidades! Has acertado el número {numero_oculto} en {len(intentos)} intentos.\")\n",
    "                break\n",
    "\n",
    "            # Primer intento\n",
    "            if len(intentos) == 1:\n",
    "                if abs(intento - numero_oculto) <= 10:\n",
    "                    print(\"¡CALIENTE!\")\n",
    "                else:\n",
    "                    print(\"¡FRÍO!\")\n",
    "        \n",
    "            # Intentos siguientes\n",
    "            else:\n",
    "                diferencia_anterior = abs(intentos[-2] - numero_oculto)\n",
    "                diferencia_actual = abs(intento - numero_oculto)\n",
    "                \n",
    "                if diferencia_actual < diferencia_anterior:\n",
    "                    print(\"¡MÁS CALIENTE!\")\n",
    "                else:\n",
    "                    print(\"¡MÁS FRÍO!\")\n",
    "        \n",
    "        except ValueError:\n",
    "            print(\"¡Eso no es un número! Introduce un número válido.\")"
   ]
  },
  {
   "cell_type": "code",
   "execution_count": 136,
   "id": "4d45a0e9-b0c0-43cd-afc9-f2bf99f8ee1d",
   "metadata": {},
   "outputs": [
    {
     "name": "stdout",
     "output_type": "stream",
     "text": [
      "¡CALIENTE O FRÍO!\n",
      "Voy a elegir un número entre 1 y 100.\n",
      "¿Cuál es?\n",
      "En tu primer intento, te diré ¡CALIENTE! o ¡FRIO!\n",
      "En los siguientes te diré si estás más ¡MÁS CALIENTE! o ¡MÁS FRÍO!\n",
      "Si eliges un número fuera del rango 1-100, te diré FUERA DE LÍMITES\n"
     ]
    },
    {
     "name": "stdin",
     "output_type": "stream",
     "text": [
      "\n",
      "Introduce tu número (entre 1 y 100):  67\n"
     ]
    },
    {
     "name": "stdout",
     "output_type": "stream",
     "text": [
      "¡FRÍO!\n"
     ]
    },
    {
     "name": "stdin",
     "output_type": "stream",
     "text": [
      "\n",
      "Introduce tu número (entre 1 y 100):  40\n"
     ]
    },
    {
     "name": "stdout",
     "output_type": "stream",
     "text": [
      "¡MÁS CALIENTE!\n"
     ]
    },
    {
     "name": "stdin",
     "output_type": "stream",
     "text": [
      "\n",
      "Introduce tu número (entre 1 y 100):  30\n"
     ]
    },
    {
     "name": "stdout",
     "output_type": "stream",
     "text": [
      "¡MÁS CALIENTE!\n"
     ]
    },
    {
     "name": "stdin",
     "output_type": "stream",
     "text": [
      "\n",
      "Introduce tu número (entre 1 y 100):  g\n"
     ]
    },
    {
     "name": "stdout",
     "output_type": "stream",
     "text": [
      "¡Eso no es un número! Introduce un número válido.\n"
     ]
    },
    {
     "name": "stdin",
     "output_type": "stream",
     "text": [
      "\n",
      "Introduce tu número (entre 1 y 100):  13\n"
     ]
    },
    {
     "name": "stdout",
     "output_type": "stream",
     "text": [
      "¡MÁS CALIENTE!\n"
     ]
    },
    {
     "name": "stdin",
     "output_type": "stream",
     "text": [
      "\n",
      "Introduce tu número (entre 1 y 100):  7\n"
     ]
    },
    {
     "name": "stdout",
     "output_type": "stream",
     "text": [
      "¡MÁS FRÍO!\n"
     ]
    },
    {
     "name": "stdin",
     "output_type": "stream",
     "text": [
      "\n",
      "Introduce tu número (entre 1 y 100):  10\n"
     ]
    },
    {
     "name": "stdout",
     "output_type": "stream",
     "text": [
      "¡MÁS CALIENTE!\n"
     ]
    },
    {
     "name": "stdin",
     "output_type": "stream",
     "text": [
      "\n",
      "Introduce tu número (entre 1 y 100):  11\n"
     ]
    },
    {
     "name": "stdout",
     "output_type": "stream",
     "text": [
      "¡MÁS CALIENTE!\n"
     ]
    },
    {
     "name": "stdin",
     "output_type": "stream",
     "text": [
      "\n",
      "Introduce tu número (entre 1 y 100):  12\n"
     ]
    },
    {
     "name": "stdout",
     "output_type": "stream",
     "text": [
      "¡Felicidades! Has acertado el número 12 en 8 intentos.\n"
     ]
    }
   ],
   "source": [
    "# Jugar\n",
    "juego_adivinanza()"
   ]
  }
 ],
 "metadata": {
  "kernelspec": {
   "display_name": "Python 3 (ipykernel)",
   "language": "python",
   "name": "python3"
  },
  "language_info": {
   "codemirror_mode": {
    "name": "ipython",
    "version": 3
   },
   "file_extension": ".py",
   "mimetype": "text/x-python",
   "name": "python",
   "nbconvert_exporter": "python",
   "pygments_lexer": "ipython3",
   "version": "3.12.4"
  }
 },
 "nbformat": 4,
 "nbformat_minor": 5
}
