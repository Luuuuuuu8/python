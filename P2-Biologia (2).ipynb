{
 "cells": [
  {
   "cell_type": "markdown",
   "id": "985e6f9b",
   "metadata": {},
   "source": [
    "# PRACTICA 2\n",
    "\n",
    "### ¡Con todo lo aprendido con Python, vamos a resolver unos ejercicios de Bioinformática!\n",
    "\n",
    "#### 1.- Concatena las cadenas ATGCC y TCCG"
   ]
  },
  {
   "cell_type": "code",
   "execution_count": 3,
   "id": "c06c7b6f",
   "metadata": {},
   "outputs": [],
   "source": [
    "cadena1 = \"ATGCC\"\n",
    "cadena2 = \"TCCG\""
   ]
  },
  {
   "cell_type": "code",
   "execution_count": 19,
   "id": "b845927c",
   "metadata": {},
   "outputs": [
    {
     "data": {
      "text/plain": [
       "'ATGCCTCCG'"
      ]
     },
     "execution_count": 19,
     "metadata": {},
     "output_type": "execute_result"
    }
   ],
   "source": [
    "cadena3=cadena1 + cadena2\n",
    "cadena3"
   ]
  },
  {
   "cell_type": "markdown",
   "id": "1f4b7708",
   "metadata": {},
   "source": [
    "#### 2.- ¿Cuál es la longitud de ATGCGAGT?"
   ]
  },
  {
   "cell_type": "code",
   "execution_count": 31,
   "id": "8f78cad8",
   "metadata": {},
   "outputs": [],
   "source": [
    "dna=\"ATGCGAGT\""
   ]
  },
  {
   "cell_type": "code",
   "execution_count": 33,
   "id": "ecce1da6",
   "metadata": {},
   "outputs": [
    {
     "data": {
      "text/plain": [
       "8"
      ]
     },
     "execution_count": 33,
     "metadata": {},
     "output_type": "execute_result"
    }
   ],
   "source": [
    "len(dna)"
   ]
  },
  {
   "cell_type": "markdown",
   "id": "6361c287",
   "metadata": {},
   "source": [
    "#### 3.- Con la cadena mgXDyTw, ponla en mayúsculas, luego en minúsculas. Extrae su longitud y divide la cadena por la letra \"g\""
   ]
  },
  {
   "cell_type": "code",
   "execution_count": 81,
   "id": "b69beca1",
   "metadata": {},
   "outputs": [],
   "source": [
    "cadena=\"mgXDyTw\""
   ]
  },
  {
   "cell_type": "code",
   "execution_count": 83,
   "id": "51591dca",
   "metadata": {},
   "outputs": [
    {
     "data": {
      "text/plain": [
       "'MGXDYTW'"
      ]
     },
     "execution_count": 83,
     "metadata": {},
     "output_type": "execute_result"
    }
   ],
   "source": [
    "CADENA = cadena.upper()\n",
    "CADENA"
   ]
  },
  {
   "cell_type": "code",
   "execution_count": 85,
   "id": "5844a6e2-168b-48d1-ab9c-a37842bbace7",
   "metadata": {},
   "outputs": [
    {
     "data": {
      "text/plain": [
       "'mgxdytw'"
      ]
     },
     "execution_count": 85,
     "metadata": {},
     "output_type": "execute_result"
    }
   ],
   "source": [
    "cadena = cadena.lower()\n",
    "cadena"
   ]
  },
  {
   "cell_type": "code",
   "execution_count": 89,
   "id": "1aa94050-3e0c-4fad-b87e-e518a963a417",
   "metadata": {},
   "outputs": [
    {
     "data": {
      "text/plain": [
       "7"
      ]
     },
     "execution_count": 89,
     "metadata": {},
     "output_type": "execute_result"
    }
   ],
   "source": [
    "len(cadena)"
   ]
  },
  {
   "cell_type": "code",
   "execution_count": 93,
   "id": "e4974896-8f45-4bff-b86a-d2003eb143a2",
   "metadata": {},
   "outputs": [
    {
     "data": {
      "text/plain": [
       "['m', 'xdytw']"
      ]
     },
     "execution_count": 93,
     "metadata": {},
     "output_type": "execute_result"
    }
   ],
   "source": [
    "cadena.split('g')"
   ]
  },
  {
   "cell_type": "markdown",
   "id": "91c2ca9d",
   "metadata": {},
   "source": [
    "#### 4.- Con la secuencia de aminoácidos vlspadktnv, reemplaza la valina con la tirosina. Pista: usa replace()"
   ]
  },
  {
   "cell_type": "code",
   "execution_count": 107,
   "id": "a049ecdd",
   "metadata": {},
   "outputs": [],
   "source": [
    "aa = \"vlspadktnv\""
   ]
  },
  {
   "cell_type": "code",
   "execution_count": 109,
   "id": "0c464cc2",
   "metadata": {},
   "outputs": [
    {
     "data": {
      "text/plain": [
       "'tlspadktnt'"
      ]
     },
     "execution_count": 109,
     "metadata": {},
     "output_type": "execute_result"
    }
   ],
   "source": [
    "aa2 = aa.replace('v', 't')\n",
    "aa2"
   ]
  },
  {
   "cell_type": "markdown",
   "id": "97f9ecd6",
   "metadata": {},
   "source": [
    "#### 5.- Cuenta las valinas de la secuencia original anterior."
   ]
  },
  {
   "cell_type": "code",
   "execution_count": 111,
   "id": "b4b5600f",
   "metadata": {},
   "outputs": [
    {
     "data": {
      "text/plain": [
       "2"
      ]
     },
     "execution_count": 111,
     "metadata": {},
     "output_type": "execute_result"
    }
   ],
   "source": [
    "aa.count('v')"
   ]
  },
  {
   "cell_type": "markdown",
   "id": "6aac8e24",
   "metadata": {},
   "source": [
    "#### 6.- Con el diccionario siguiente imprime el valor de BisI y saca el valor de EcoRI con pop(). ¿Qué pasa con el diccionario?"
   ]
  },
  {
   "cell_type": "code",
   "execution_count": 133,
   "id": "c0c811d7",
   "metadata": {},
   "outputs": [],
   "source": [
    "enzR = {\n",
    "    'EcoRI':r'GAATTC',\n",
    "    'AvaII':r'GG(A|T)CC',\n",
    "    'BisI':r'GC[ATGC]GC'\n",
    "}"
   ]
  },
  {
   "cell_type": "code",
   "execution_count": 135,
   "id": "5dacb009",
   "metadata": {},
   "outputs": [
    {
     "data": {
      "text/plain": [
       "{'AvaII': 'GG(A|T)CC', 'BisI': 'GC[ATGC]GC'}"
      ]
     },
     "execution_count": 135,
     "metadata": {},
     "output_type": "execute_result"
    }
   ],
   "source": [
    "enzR.pop('EcoRI')\n",
    "enzR"
   ]
  },
  {
   "cell_type": "markdown",
   "id": "4646bddd",
   "metadata": {},
   "source": [
    "#### 7.- Con la secuencia y la lista siguiente, escribe un algoritmo que cuente el número de veces que aparece un elemento de la lista en la secuencia. Pista: hacer un diccionario para almacenar los resultados puede ser buena idea"
   ]
  },
  {
   "cell_type": "code",
   "execution_count": 155,
   "id": "0a701a5e",
   "metadata": {},
   "outputs": [],
   "source": [
    "dna = \"AATGATGAACGAC\" \n",
    "dinucleotides = ['AA','AT','AG','AC', \n",
    "                 'TA','TT','TG','TC', \n",
    "                 'GA','GT','GG','GC', \n",
    "                 'CA','CT','CG','CT'] "
   ]
  },
  {
   "cell_type": "code",
   "execution_count": 209,
   "id": "e028dbc8",
   "metadata": {},
   "outputs": [],
   "source": [
    "dinucleotides_count = {dinucleotide: dna.count(dinucleotide) for dinucleotide in dinucleotides}"
   ]
  },
  {
   "cell_type": "code",
   "execution_count": 211,
   "id": "0957864b-c1c0-4826-b3d8-6b142d6561fd",
   "metadata": {},
   "outputs": [
    {
     "name": "stdout",
     "output_type": "stream",
     "text": [
      "AA: 2\n",
      "AT: 2\n",
      "AG: 0\n",
      "AC: 2\n",
      "TA: 0\n",
      "TT: 0\n",
      "TG: 2\n",
      "TC: 0\n",
      "GA: 3\n",
      "GT: 0\n",
      "GG: 0\n",
      "GC: 0\n",
      "CA: 0\n",
      "CT: 0\n",
      "CG: 1\n"
     ]
    }
   ],
   "source": [
    "for dinucleotide, count in dinucleotides_count. items():\n",
    "    print(f\"{dinucleotide}: {count}\")"
   ]
  },
  {
   "cell_type": "markdown",
   "id": "a44b5e4c",
   "metadata": {},
   "source": [
    "##### ¿Cuántos counts tiene TC?"
   ]
  },
  {
   "cell_type": "code",
   "execution_count": 213,
   "id": "3003eef4",
   "metadata": {},
   "outputs": [
    {
     "data": {
      "text/plain": [
       "0"
      ]
     },
     "execution_count": 213,
     "metadata": {},
     "output_type": "execute_result"
    }
   ],
   "source": [
    "TC_count = dinucleotides_count['TC']\n",
    "TC_count"
   ]
  },
  {
   "cell_type": "markdown",
   "id": "70245f18",
   "metadata": {},
   "source": [
    "##### ¿Puedes imprimir los dinuleótidos que tengan counts igual a 2?"
   ]
  },
  {
   "cell_type": "code",
   "execution_count": 215,
   "id": "b83480e8",
   "metadata": {},
   "outputs": [
    {
     "name": "stdout",
     "output_type": "stream",
     "text": [
      "AA\n",
      "AT\n",
      "AC\n",
      "TG\n"
     ]
    }
   ],
   "source": [
    "for dinucleotide, count in dinucleotides_count.items():\n",
    "    if count == 2:\n",
    "        print (dinucleotide)"
   ]
  }
 ],
 "metadata": {
  "kernelspec": {
   "display_name": "Python 3 (ipykernel)",
   "language": "python",
   "name": "python3"
  },
  "language_info": {
   "codemirror_mode": {
    "name": "ipython",
    "version": 3
   },
   "file_extension": ".py",
   "mimetype": "text/x-python",
   "name": "python",
   "nbconvert_exporter": "python",
   "pygments_lexer": "ipython3",
   "version": "3.12.4"
  }
 },
 "nbformat": 4,
 "nbformat_minor": 5
}
